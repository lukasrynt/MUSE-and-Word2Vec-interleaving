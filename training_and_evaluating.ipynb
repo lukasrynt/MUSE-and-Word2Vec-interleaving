{
 "cells": [
  {
   "cell_type": "code",
   "execution_count": 1,
   "metadata": {},
   "outputs": [],
   "source": [
    "from src.corpus import Loader, Creator\n",
    "from src.models import W2V, MUSE\n",
    "from src.visualization import Visualizer\n",
    "from src.utils import series_to_arr\n",
    "import pandas as pd\n",
    "from src.evaluation import Evaluator\n",
    "import json\n",
    "import os\n",
    "from src.orchestration import Orchestrator"
   ]
  },
  {
   "cell_type": "code",
   "execution_count": 2,
   "metadata": {},
   "outputs": [],
   "source": [
    "en_words = ['access', 'authoris', 'capit', 'committe', 'consum', 'content', 'deadlin', 'document', 'expenditur', 'full', 'geograph', 'group', 'growth', 'hear', 'instrument', 'investig', 'label', 'list', 'loan', 'network', 'opinion', 'partnership', 'pension', 'price', 'sale', 'secret', 'solut', 'trade', 'type', 'wast']\n",
    "cz_words = ['přístup', 'povolen', 'kapitál', 'výbor', 'spotřebitel', 'obsah', 'lhůt', 'dokument', 'výdaj', 'pln', 'zeměpisn', 'skup', 'růst', 'slyšen', 'nástroj', 'šetřen', 'označen', 'seznam', 'úvěr', 'síť', 'stanovisk', 'partnerst', 'důchod', 'cen', 'prodej', 'tajemstv', 'řešen', 'obchod', 'typ', 'odpad']"
   ]
  },
  {
   "cell_type": "code",
   "execution_count": 3,
   "metadata": {},
   "outputs": [],
   "source": [
    "model = W2V(path = 'models/cbow6x50/interleaved')"
   ]
  },
  {
   "cell_type": "code",
   "execution_count": 4,
   "metadata": {},
   "outputs": [
    {
     "name": "stdout",
     "output_type": "stream",
     "text": [
      "P@1: 43.33%\n",
      "P@5: 86.67%\n",
      "P@10: 93.33%\n",
      "Relevance: 63.39%\n"
     ]
    }
   ],
   "source": [
    "evaluator = Evaluator(model)\n",
    "evaluator.all_tests(en_words, cz_words)"
   ]
  },
  {
   "cell_type": "code",
   "execution_count": 5,
   "metadata": {},
   "outputs": [
    {
     "data": {
      "text/plain": [
       "0.6339285714285714"
      ]
     },
     "execution_count": 5,
     "metadata": {},
     "output_type": "execute_result"
    }
   ],
   "source": [
    "evaluator.relevance_metric(en_words, cz_words)"
   ]
  },
  {
   "cell_type": "code",
   "execution_count": null,
   "metadata": {},
   "outputs": [
    {
     "name": "stdout",
     "output_type": "stream",
     "text": [
      "------------------------------\n",
      "INTERLEAVED\n",
      "Context window: 6\n",
      "Vector size: 50\n",
      "Model type: CBOW\n",
      "------------------------------\n",
      "P@1: 43.33%\n",
      "P@5: 86.67%\n",
      "P@10: 93.33%\n",
      "Relevance: 63.39%\n",
      "------------------------------\n",
      "MUSE\n",
      "Context window: 3\n",
      "Vector size: 50\n",
      "Model type: CBOW\n",
      "------------------------------\n",
      "Skipping adversarial training\n",
      "------------------------------\n",
      "INTERLEAVED\n",
      "Context window: 6\n",
      "Vector size: 50\n",
      "Model type: Skip-Gram\n",
      "------------------------------\n",
      "P@1: 33.33%\n",
      "P@5: 36.67%\n",
      "P@10: 36.67%\n",
      "Relevance: 34.00%\n",
      "------------------------------\n",
      "MUSE\n",
      "Context window: 3\n",
      "Vector size: 50\n",
      "Model type: Skip-Gram\n",
      "------------------------------\n",
      "Skipping adversarial training\n",
      "------------------------------\n",
      "INTERLEAVED\n",
      "Context window: 8\n",
      "Vector size: 50\n",
      "Model type: CBOW\n",
      "------------------------------\n",
      "P@1: 70.00%\n",
      "P@5: 90.00%\n",
      "P@10: 90.00%\n",
      "Relevance: 78.06%\n",
      "------------------------------\n",
      "MUSE\n",
      "Context window: 4\n",
      "Vector size: 50\n",
      "Model type: CBOW\n",
      "------------------------------\n",
      "Iteration 1/4\n",
      "Iteration 2/4\n",
      "Iteration 3/4\n",
      "Iteration 4/4\n",
      "Iteration 1/4\n",
      "Iteration 2/4\n"
     ]
    }
   ],
   "source": [
    "orch = Orchestrator(en_words=en_words, cz_words=cz_words,\n",
    "                    muse_epoch_size=1, muse_epochs=5000,\n",
    "                    vector_sizes=[50, 100, 200, 300], window_sizes=[6, 8, 10],\n",
    "                    skip_muse=True)\n",
    "orch.run_all()"
   ]
  },
  {
   "cell_type": "code",
   "execution_count": null,
   "metadata": {},
   "outputs": [],
   "source": []
  }
 ],
 "metadata": {
  "kernelspec": {
   "display_name": "Python 3 (ipykernel)",
   "language": "python",
   "name": "python3"
  },
  "language_info": {
   "codemirror_mode": {
    "name": "ipython",
    "version": 3
   },
   "file_extension": ".py",
   "mimetype": "text/x-python",
   "name": "python",
   "nbconvert_exporter": "python",
   "pygments_lexer": "ipython3",
   "version": "3.8.13"
  }
 },
 "nbformat": 4,
 "nbformat_minor": 1
}
