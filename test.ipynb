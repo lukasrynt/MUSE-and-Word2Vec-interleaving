{
 "cells": [
  {
   "cell_type": "code",
   "execution_count": 1,
   "metadata": {},
   "outputs": [],
   "source": [
    "from src.corpus import Loader, Creator\n",
    "from src.models import W2V\n",
    "from src.visualization import Visualizer\n",
    "from src.utils import series_to_arr\n",
    "import pandas as pd\n",
    "from src.evaluation import Evaluator\n",
    "import json\n",
    "import os"
   ]
  },
  {
   "cell_type": "code",
   "execution_count": 2,
   "metadata": {},
   "outputs": [],
   "source": [
    "en_model = W2V('models/en_monolingual')\n",
    "cz_model = W2V('models/cz_monolingual')"
   ]
  },
  {
   "cell_type": "code",
   "execution_count": 3,
   "metadata": {},
   "outputs": [],
   "source": [
    "en_model.save_vectors_for_muse('embeddings/en')\n",
    "cz_model.save_vectors_for_muse('embeddings/cz')"
   ]
  },
  {
   "cell_type": "code",
   "execution_count": 2,
   "metadata": {
    "scrolled": true
   },
   "outputs": [
    {
     "name": "stderr",
     "output_type": "stream",
     "text": [
      "Impossible to import Faiss-GPU. Switching to FAISS-CPU, this will be slower.\n",
      "\n",
      "INFO - 10/09/22 11:54:38 - 0:00:00 - ============ Initialized logger ============\n",
      "INFO - 10/09/22 11:54:38 - 0:00:00 - adversarial: True\n",
      "                                     batch_size: 32\n",
      "                                     cuda: False\n",
      "                                     dico_build: S2T\n",
      "                                     dico_eval: default\n",
      "                                     dico_max_rank: 15000\n",
      "                                     dico_max_size: 0\n",
      "                                     dico_method: csls_knn_10\n",
      "                                     dico_min_size: 0\n",
      "                                     dico_threshold: 0\n",
      "                                     dis_clip_weights: 0\n",
      "                                     dis_dropout: 0.0\n",
      "                                     dis_hid_dim: 2048\n",
      "                                     dis_input_dropout: 0.1\n",
      "                                     dis_lambda: 1\n",
      "                                     dis_layers: 2\n",
      "                                     dis_most_frequent: 75000\n",
      "                                     dis_optimizer: sgd,lr=0.1\n",
      "                                     dis_smooth: 0.1\n",
      "                                     dis_steps: 5\n",
      "                                     emb_dim: 100\n",
      "                                     epoch_size: 1000000\n",
      "                                     exp_id: \n",
      "                                     exp_name: debug\n",
      "                                     exp_path: /home/lukas/School/vylet/MUSE/dumped/debug/i8bvwu3zkz\n",
      "                                     export: txt\n",
      "                                     lr_decay: 0.98\n",
      "                                     lr_shrink: 0.5\n",
      "                                     map_beta: 0.001\n",
      "                                     map_id_init: True\n",
      "                                     map_optimizer: sgd,lr=0.1\n",
      "                                     max_vocab: 200000\n",
      "                                     min_lr: 1e-06\n",
      "                                     n_epochs: 5\n",
      "                                     n_refinement: 5\n",
      "                                     normalize_embeddings: \n",
      "                                     seed: -1\n",
      "                                     src_emb: embeddings/cz\n",
      "                                     src_lang: cz\n",
      "                                     tgt_emb: embeddings/en\n",
      "                                     tgt_lang: en\n",
      "                                     verbose: 2\n",
      "INFO - 10/09/22 11:54:38 - 0:00:00 - The experiment will be stored in /home/lukas/School/vylet/MUSE/dumped/debug/i8bvwu3zkz\n",
      "INFO - 10/09/22 11:54:39 - 0:00:01 - Loaded 64330 pre-trained word embeddings.\n",
      "INFO - 10/09/22 11:54:40 - 0:00:02 - Loaded 53595 pre-trained word embeddings.\n",
      "INFO - 10/09/22 11:54:40 - 0:00:02 - ----> ADVERSARIAL TRAINING <----\n",
      "                                     \n",
      "                                     \n",
      "INFO - 10/09/22 11:54:40 - 0:00:02 - Starting adversarial training epoch 0...\n",
      "Traceback (most recent call last):\n",
      "  File \"MUSE/unsupervised.py\", line 118, in <module>\n",
      "    trainer.dis_step(stats)\n",
      "  File \"/home/lukas/School/vylet/MUSE/src/trainer.py\", line 90, in dis_step\n",
      "    x, y = self.get_dis_xy(volatile=True)\n",
      "  File \"/home/lukas/School/vylet/MUSE/src/trainer.py\", line 61, in get_dis_xy\n",
      "    assert mf <= min(len(self.src_dico), len(self.tgt_dico))\n",
      "AssertionError\n"
     ]
    },
    {
     "data": {
      "text/plain": [
       "256"
      ]
     },
     "execution_count": 2,
     "metadata": {},
     "output_type": "execute_result"
    }
   ],
   "source": [
    "os.system(\"\"\"python MUSE/unsupervised.py\\\n",
    "                --cuda False --n_refinement 5\\\n",
    "                --src_emb embeddings/cz --src_lang cz\\\n",
    "                --tgt_emb embeddings/en --tgt_lang en\\\n",
    "                --emb_dim 100\"\"\")"
   ]
  },
  {
   "cell_type": "code",
   "execution_count": 9,
   "metadata": {},
   "outputs": [
    {
     "data": {
      "text/plain": [
       "100"
      ]
     },
     "execution_count": 9,
     "metadata": {},
     "output_type": "execute_result"
    }
   ],
   "source": [
    "en_model.model.vector_size"
   ]
  },
  {
   "cell_type": "code",
   "execution_count": 3,
   "metadata": {},
   "outputs": [],
   "source": [
    "import inspect"
   ]
  },
  {
   "cell_type": "code",
   "execution_count": 12,
   "metadata": {},
   "outputs": [
    {
     "ename": "TypeError",
     "evalue": "unhashable type: 'slice'",
     "output_type": "error",
     "traceback": [
      "\u001b[0;31m---------------------------------------------------------------------------\u001b[0m",
      "\u001b[0;31mTypeError\u001b[0m                                 Traceback (most recent call last)",
      "Input \u001b[0;32mIn [12]\u001b[0m, in \u001b[0;36m<module>\u001b[0;34m\u001b[0m\n\u001b[1;32m      1\u001b[0m \u001b[38;5;28;01mdef\u001b[39;00m \u001b[38;5;21mfoobar\u001b[39m(a,b\u001b[38;5;241m=\u001b[39m\u001b[38;5;241m11\u001b[39m): \u001b[38;5;28;01mpass\u001b[39;00m\n\u001b[0;32m----> 2\u001b[0m \u001b[43minspect\u001b[49m\u001b[38;5;241;43m.\u001b[39;49m\u001b[43msignature\u001b[49m\u001b[43m(\u001b[49m\u001b[43mfoobar\u001b[49m\u001b[43m)\u001b[49m\u001b[38;5;241;43m.\u001b[39;49m\u001b[43mparameters\u001b[49m\u001b[43m[\u001b[49m\u001b[43m:\u001b[49m\u001b[38;5;241;43m2\u001b[39;49m\u001b[43m]\u001b[49m\n",
      "\u001b[0;31mTypeError\u001b[0m: unhashable type: 'slice'"
     ]
    }
   ],
   "source": [
    "def foobar(a,b=11): pass\n",
    "inspect.signature(foobar).parameters[:2]"
   ]
  },
  {
   "cell_type": "code",
   "execution_count": null,
   "metadata": {},
   "outputs": [],
   "source": []
  }
 ],
 "metadata": {
  "kernelspec": {
   "display_name": "Python 3 (ipykernel)",
   "language": "python",
   "name": "python3"
  },
  "language_info": {
   "codemirror_mode": {
    "name": "ipython",
    "version": 3
   },
   "file_extension": ".py",
   "mimetype": "text/x-python",
   "name": "python",
   "nbconvert_exporter": "python",
   "pygments_lexer": "ipython3",
   "version": "3.8.13"
  }
 },
 "nbformat": 4,
 "nbformat_minor": 1
}
