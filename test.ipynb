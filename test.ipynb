{
 "cells": [
  {
   "cell_type": "code",
   "execution_count": 1,
   "metadata": {},
   "outputs": [],
   "source": [
    "from src.corpus import Loader, Creator\n",
    "from src.models import W2V, MUSE\n",
    "from src.visualization import Visualizer\n",
    "from src.utils import series_to_arr\n",
    "import pandas as pd\n",
    "from src.evaluation import Evaluator\n",
    "import json\n",
    "import os\n",
    "from src.orchestration import Orchestrator"
   ]
  },
  {
   "cell_type": "code",
   "execution_count": 2,
   "metadata": {},
   "outputs": [],
   "source": [
    "en_words = ['access', 'authoris', 'capit', 'committe', 'consum', 'content', 'deadlin', 'document', 'expenditur', 'full', 'geograph', 'group', 'growth', 'hear', 'instrument', 'investig', 'label', 'list', 'loan', 'network', 'opinion', 'partnership', 'pension', 'price', 'sale', 'secret', 'solut', 'trade', 'type', 'wast']\n",
    "cz_words = ['přístup', 'povolen', 'kapitál', 'výbor', 'spotřebitel', 'obsah', 'lhůt', 'dokument', 'výdaj', 'pln', 'zeměpisn', 'skup', 'růst', 'slyšen', 'nástroj', 'šetřen', 'označen', 'seznam', 'úvěr', 'síť', 'stanovisk', 'partnerst', 'důchod', 'cen', 'prodej', 'tajemstv', 'řešen', 'obchod', 'typ', 'odpad']"
   ]
  },
  {
   "cell_type": "code",
   "execution_count": 3,
   "metadata": {},
   "outputs": [
    {
     "name": "stdout",
     "output_type": "stream",
     "text": [
      "------------------------------\n",
      "INTERLEAVED\n",
      "Context window: 6\n",
      "Vector size: 300\n",
      "Model type: CBOW\n",
      "------------------------------\n",
      "P@5:  0.7666666666666667\n",
      "P@10: 0.8\n",
      "------------------------------\n",
      "MUSE\n",
      "Context window: 3\n",
      "Vector size: 300\n",
      "Model type: CBOW\n",
      "------------------------------\n",
      "Skipping aligning vectors for now\n",
      "------------------------------\n",
      "INTERLEAVED\n",
      "Context window: 6\n",
      "Vector size: 300\n",
      "Model type: Skip-Gram\n",
      "------------------------------\n",
      "Iteration 1/24\n",
      "Iteration 2/24\n",
      "Iteration 3/24\n",
      "Iteration 4/24\n",
      "Iteration 5/24\n",
      "Iteration 6/24\n",
      "Iteration 7/24\n",
      "Iteration 8/24\n",
      "Iteration 9/24\n",
      "Iteration 10/24\n",
      "Iteration 11/24\n",
      "Iteration 12/24\n",
      "Iteration 13/24\n",
      "Iteration 14/24\n",
      "Iteration 15/24\n",
      "Iteration 16/24\n",
      "Iteration 17/24\n",
      "Iteration 18/24\n",
      "Iteration 19/24\n",
      "Iteration 20/24\n",
      "Iteration 21/24\n",
      "Iteration 22/24\n",
      "Iteration 23/24\n",
      "Iteration 24/24\n",
      "P@5:  0.7333333333333333\n",
      "P@10: 0.7333333333333333\n",
      "------------------------------\n",
      "MUSE\n",
      "Context window: 3\n",
      "Vector size: 300\n",
      "Model type: Skip-Gram\n",
      "------------------------------\n",
      "Iteration 1/4\n",
      "Iteration 2/4\n",
      "Iteration 3/4\n",
      "Iteration 4/4\n",
      "Iteration 1/4\n",
      "Iteration 2/4\n",
      "Iteration 3/4\n",
      "Iteration 4/4\n",
      "Skipping aligning vectors for now\n"
     ]
    }
   ],
   "source": [
    "orch = Orchestrator(en_words=en_words, cz_words=cz_words,\n",
    "                    muse_epoch_size=1, muse_epochs=5000,\n",
    "                    vector_sizes=[300], window_sizes=[6],\n",
    "                    skip_muse=True)\n",
    "orch.run_all()"
   ]
  },
  {
   "cell_type": "code",
   "execution_count": null,
   "metadata": {},
   "outputs": [],
   "source": []
  }
 ],
 "metadata": {
  "kernelspec": {
   "display_name": "Python 3 (ipykernel)",
   "language": "python",
   "name": "python3"
  },
  "language_info": {
   "codemirror_mode": {
    "name": "ipython",
    "version": 3
   },
   "file_extension": ".py",
   "mimetype": "text/x-python",
   "name": "python",
   "nbconvert_exporter": "python",
   "pygments_lexer": "ipython3",
   "version": "3.8.13"
  }
 },
 "nbformat": 4,
 "nbformat_minor": 1
}
